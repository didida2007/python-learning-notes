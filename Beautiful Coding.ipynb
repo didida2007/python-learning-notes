{
 "cells": [
  {
   "cell_type": "code",
   "id": "initial_id",
   "metadata": {
    "collapsed": true,
    "ExecuteTime": {
     "end_time": "2025-09-13T14:48:43.403495Z",
     "start_time": "2025-09-13T14:48:33.388436Z"
    }
   },
   "source": [
    "import time\n",
    "\n",
    "\n",
    "# 定义时钟类\n",
    "class Clock:\n",
    "    \"\"\"数字时钟\"\"\"\n",
    "\n",
    "    def __init__(self, hour=0, minute=0, second=0):\n",
    "        \"\"\"初始化方法\n",
    "        :param hour: 时\n",
    "        :param minute: 分\n",
    "        :param second: 秒\n",
    "        \"\"\"\n",
    "        self.hour = hour\n",
    "        self.min = minute\n",
    "        self.sec = second\n",
    "\n",
    "    def run(self):\n",
    "        \"\"\"走字\"\"\"\n",
    "        self.sec += 1\n",
    "        if self.sec == 60:\n",
    "            self.sec = 0\n",
    "            self.min += 1\n",
    "            if self.min == 60:\n",
    "                self.min = 0\n",
    "                self.hour += 1\n",
    "                if self.hour == 24:\n",
    "                    self.hour = 0\n",
    "\n",
    "    def show(self):\n",
    "        \"\"\"显示时间\"\"\"\n",
    "        return f'{self.hour:0>2d}:{self.min:0>2d}:{self.sec:0>2d}'\n",
    "\n",
    "\n",
    "# 创建时钟对象\n",
    "clock = Clock(23, 59, 58)\n",
    "for _ in range(10):\n",
    "    # 给时钟对象发消息读取时间\n",
    "    print(clock.show())\n",
    "    # 休眠1秒钟\n",
    "    time.sleep(1)\n",
    "    # 给时钟对象发消息使其走字\n",
    "    clock.run()"
   ],
   "outputs": [
    {
     "name": "stdout",
     "output_type": "stream",
     "text": [
      "23:59:58\n",
      "23:59:59\n",
      "00:00:00\n",
      "00:00:01\n",
      "00:00:02\n",
      "00:00:03\n",
      "00:00:04\n",
      "00:00:05\n",
      "00:00:06\n",
      "00:00:07\n"
     ]
    }
   ],
   "execution_count": 3
  }
 ],
 "metadata": {
  "kernelspec": {
   "display_name": "Python 3",
   "language": "python",
   "name": "python3"
  },
  "language_info": {
   "codemirror_mode": {
    "name": "ipython",
    "version": 2
   },
   "file_extension": ".py",
   "mimetype": "text/x-python",
   "name": "python",
   "nbconvert_exporter": "python",
   "pygments_lexer": "ipython2",
   "version": "2.7.6"
  }
 },
 "nbformat": 4,
 "nbformat_minor": 5
}
