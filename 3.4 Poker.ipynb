{
 "cells": [
  {
   "cell_type": "code",
   "id": "initial_id",
   "metadata": {
    "collapsed": true,
    "ExecuteTime": {
     "end_time": "2025-09-13T15:09:32.946299Z",
     "start_time": "2025-09-13T15:09:32.940900Z"
    }
   },
   "source": [
    "from enum import Enum\n",
    "\n",
    "class Suite(Enum):\n",
    "    \"\"\"花色(枚举)\"\"\"\n",
    "    SPADE, HEART, CLUB, DIAMOND = range(4)\n",
    "\n",
    "for suite in Suite:\n",
    "    print(f'{suite}: {suite.value}')"
   ],
   "outputs": [
    {
     "name": "stdout",
     "output_type": "stream",
     "text": [
      "Suite.SPADE: 0\n",
      "Suite.HEART: 1\n",
      "Suite.CLUB: 2\n",
      "Suite.DIAMOND: 3\n"
     ]
    }
   ],
   "execution_count": 50
  },
  {
   "metadata": {
    "ExecuteTime": {
     "end_time": "2025-09-13T15:09:32.973226Z",
     "start_time": "2025-09-13T15:09:32.966864Z"
    }
   },
   "cell_type": "code",
   "source": [
    "class Card:\n",
    "    \"\"\"牌\"\"\"\n",
    "\n",
    "    def __init__(self, suite, face):\n",
    "        self.suite = suite\n",
    "        self.face = face\n",
    "\n",
    "    def __repr__(self):\n",
    "        suites = '♠♥♣♦'\n",
    "        faces = ['', 'A', '2', '3', '4', '5', '6', '7', '8', '9', '10', 'J', 'Q', 'K']\n",
    "        return f'{suites[self.suite.value]}{faces[self.face]}'  # 返回牌的花色和点数\n",
    "\n",
    "    def __lt__(self, other):   # 魔术方法：重载大于（larger than），否则没法sort()两个card instance\n",
    "        if self.suite == other.suite:\n",
    "            return self.face < other.face   # 花色相同比较点数的大小\n",
    "        return self.suite.value < other.suite.value   # 花色不同比较花色对应的值"
   ],
   "id": "8bfbfcdd412b93a3",
   "outputs": [],
   "execution_count": 51
  },
  {
   "metadata": {
    "ExecuteTime": {
     "end_time": "2025-09-13T15:09:32.987341Z",
     "start_time": "2025-09-13T15:09:32.981584Z"
    }
   },
   "cell_type": "code",
   "source": [
    "card1 = Card(Suite.SPADE, 5)\n",
    "card2 = Card(Suite.HEART, 13)\n",
    "print(card1)  # ♠5\n",
    "print(card2)  # ♥K"
   ],
   "id": "c3bc2c2ad963a15a",
   "outputs": [
    {
     "name": "stdout",
     "output_type": "stream",
     "text": [
      "♠5\n",
      "♥K\n"
     ]
    }
   ],
   "execution_count": 52
  },
  {
   "metadata": {
    "ExecuteTime": {
     "end_time": "2025-09-13T15:09:33.007941Z",
     "start_time": "2025-09-13T15:09:33.001150Z"
    }
   },
   "cell_type": "code",
   "source": [
    "import random\n",
    "\n",
    "\n",
    "class Poker:\n",
    "    \"\"\"扑克\"\"\"\n",
    "\n",
    "    def __init__(self):\n",
    "        self.cards = [Card(suite, face)\n",
    "                      for suite in Suite\n",
    "                      for face in range(1, 14)]  # 52张牌构成的列表\n",
    "        self.current = 0  # 记录发牌位置的属性\n",
    "\n",
    "    def shuffle(self):\n",
    "        \"\"\"洗牌\"\"\"\n",
    "        self.current = 0\n",
    "        random.shuffle(self.cards)  # 通过random模块的shuffle函数实现随机乱序\n",
    "\n",
    "    def deal(self):\n",
    "        \"\"\"发牌\"\"\"\n",
    "        card = self.cards[self.current]\n",
    "        self.current += 1\n",
    "        return card\n",
    "\n",
    "    @property\n",
    "    def has_next(self):\n",
    "        \"\"\"还有没有牌可以发\"\"\"\n",
    "        return self.current < len(self.cards)"
   ],
   "id": "d2b91b5bb06e9db6",
   "outputs": [],
   "execution_count": 53
  },
  {
   "metadata": {
    "ExecuteTime": {
     "end_time": "2025-09-13T15:09:33.023279Z",
     "start_time": "2025-09-13T15:09:33.018628Z"
    }
   },
   "cell_type": "code",
   "source": [
    "poker = Poker()\n",
    "print(poker.cards)  # 洗牌前的牌\n",
    "poker.shuffle()\n",
    "print(poker.cards)  # 洗牌后的牌"
   ],
   "id": "92ef7cb66e2d9b19",
   "outputs": [
    {
     "name": "stdout",
     "output_type": "stream",
     "text": [
      "[♠A, ♠2, ♠3, ♠4, ♠5, ♠6, ♠7, ♠8, ♠9, ♠10, ♠J, ♠Q, ♠K, ♥A, ♥2, ♥3, ♥4, ♥5, ♥6, ♥7, ♥8, ♥9, ♥10, ♥J, ♥Q, ♥K, ♣A, ♣2, ♣3, ♣4, ♣5, ♣6, ♣7, ♣8, ♣9, ♣10, ♣J, ♣Q, ♣K, ♦A, ♦2, ♦3, ♦4, ♦5, ♦6, ♦7, ♦8, ♦9, ♦10, ♦J, ♦Q, ♦K]\n",
      "[♠J, ♦J, ♦9, ♥8, ♥6, ♣7, ♣10, ♦K, ♠6, ♣9, ♣4, ♦5, ♥K, ♥4, ♠7, ♣8, ♣2, ♠Q, ♣A, ♥A, ♦2, ♥J, ♣J, ♠10, ♣3, ♣K, ♦A, ♣5, ♥5, ♦3, ♠9, ♠8, ♣Q, ♦Q, ♠5, ♠A, ♦6, ♠2, ♠4, ♠3, ♥10, ♦8, ♥7, ♥3, ♦10, ♥Q, ♦4, ♥9, ♣6, ♥2, ♠K, ♦7]\n"
     ]
    }
   ],
   "execution_count": 54
  },
  {
   "metadata": {},
   "cell_type": "markdown",
   "source": "#### 比大小",
   "id": "101089e466feae34"
  },
  {
   "metadata": {
    "ExecuteTime": {
     "end_time": "2025-09-13T15:09:33.047831Z",
     "start_time": "2025-09-13T15:09:33.042605Z"
    }
   },
   "cell_type": "code",
   "source": [
    "class Player:\n",
    "    \"\"\"玩家\"\"\"\n",
    "\n",
    "    def __init__(self, name):\n",
    "        self.name = name\n",
    "        self.cards = []  # 玩家手上的牌\n",
    "\n",
    "    def get_one(self, card):\n",
    "        \"\"\"摸牌\"\"\"\n",
    "        self.cards.append(card)\n",
    "\n",
    "    def arrange(self):\n",
    "        \"\"\"整理手上的牌\"\"\"\n",
    "        self.cards.sort()\n",
    "\n",
    "        # 前面没有重载大于则会报错：\n",
    "        # TypeError: '<' not supported between instances of 'Card' and 'Card'"
   ],
   "id": "df96e2c39074257",
   "outputs": [],
   "execution_count": 55
  },
  {
   "metadata": {
    "ExecuteTime": {
     "end_time": "2025-09-13T15:09:33.065055Z",
     "start_time": "2025-09-13T15:09:33.058059Z"
    }
   },
   "cell_type": "code",
   "source": [
    "poker = Poker()\n",
    "poker.shuffle()\n",
    "players = [Player('东邪'), Player('西毒'), Player('南帝'), Player('北丐')]\n",
    "# 将牌轮流发到每个玩家手上每人13张牌\n",
    "for _ in range(13):\n",
    "    for player in players:\n",
    "        player.get_one(poker.deal())\n",
    "# 玩家整理手上的牌输出名字和手牌\n",
    "for player in players:\n",
    "    player.arrange()\n",
    "    print(f'{player.name}: ', end='')\n",
    "    print(player.cards)"
   ],
   "id": "2077c568adcb04f2",
   "outputs": [
    {
     "name": "stdout",
     "output_type": "stream",
     "text": [
      "东邪: [♠4, ♠10, ♠K, ♥6, ♥7, ♥J, ♣2, ♣4, ♣10, ♣Q, ♦3, ♦4, ♦5]\n",
      "西毒: [♠2, ♠7, ♠8, ♠Q, ♥A, ♥4, ♥9, ♥Q, ♥K, ♣9, ♣J, ♣K, ♦Q]\n",
      "南帝: [♠A, ♠5, ♠9, ♥2, ♥8, ♣5, ♣7, ♦A, ♦2, ♦7, ♦8, ♦9, ♦J]\n",
      "北丐: [♠3, ♠6, ♠J, ♥3, ♥5, ♥10, ♣A, ♣3, ♣6, ♣8, ♦6, ♦10, ♦K]\n"
     ]
    }
   ],
   "execution_count": 56
  }
 ],
 "metadata": {
  "kernelspec": {
   "display_name": "Python 3",
   "language": "python",
   "name": "python3"
  },
  "language_info": {
   "codemirror_mode": {
    "name": "ipython",
    "version": 2
   },
   "file_extension": ".py",
   "mimetype": "text/x-python",
   "name": "python",
   "nbconvert_exporter": "python",
   "pygments_lexer": "ipython2",
   "version": "2.7.6"
  }
 },
 "nbformat": 4,
 "nbformat_minor": 5
}
