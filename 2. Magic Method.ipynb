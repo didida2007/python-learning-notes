{
 "cells": [
  {
   "metadata": {},
   "cell_type": "markdown",
   "source": [
    "## 魔术方法\n",
    "* python自带的方法\n",
    "* 格式：双下划线包围"
   ],
   "id": "a63e2145b298b152"
  },
  {
   "metadata": {},
   "cell_type": "markdown",
   "source": [
    "#### `__`str`__`\n",
    "* 当使用 print() / str() / f'{obj}' 时自动调用的方法\n",
    "* 返回一个人类（用户）可读的，描述对象的字符串\n",
    "* 没有返回值时会报错\n",
    "* 与之相对的，__repr__返回开发者明确的描述"
   ],
   "id": "c87e17cc9fba2fc6"
  },
  {
   "metadata": {
    "ExecuteTime": {
     "end_time": "2025-09-08T16:25:57.376325Z",
     "start_time": "2025-09-08T16:25:57.358615Z"
    }
   },
   "cell_type": "code",
   "source": [
    "class Person:\n",
    "\n",
    "    def __init__(self, name, color):\n",
    "        self.name = name\n",
    "        self.color = color\n",
    "\n",
    "    def __str__(self):  # 打印对象时输出的信息\n",
    "        return f'{self.name} is {self.color}'\n",
    "\n",
    "\n",
    "vct = Person('Victoria', 'white')\n",
    "print(vct)"
   ],
   "id": "1ba2e9bb79cd5b3c",
   "outputs": [
    {
     "name": "stdout",
     "output_type": "stream",
     "text": [
      "Victoria is white\n"
     ]
    }
   ],
   "execution_count": 1
  },
  {
   "metadata": {},
   "cell_type": "markdown",
   "source": [
    "#### `__`new`__`\n",
    "* __init__是对象的初始化器(Initializer)，给已经存在的对象赋初始值\n",
    "* __new__是对象的构造器(Constructor)，负责创建对象并返回它\n",
    "* 不刻意声明__new__的话，python会提供一个默认的__new__方法"
   ],
   "id": "3429998e347706ae"
  },
  {
   "metadata": {},
   "cell_type": "markdown",
   "source": [
    "* 调用时机：__new__在__init__之前被调用\n",
    "* 参数：__new__至少接收一个参数cls（代表类class本身），而不是self（因为对象还没被创建）\n",
    "* 返回值：必须返回一个对象实例（cls的实例），若不返回，__init__不会被调用\n",
    "* 主要用途：控制不可变类型的实例创建，或实行单例模式和自定义对象创建流程"
   ],
   "id": "d259cf03370e2dfc"
  },
  {
   "metadata": {
    "ExecuteTime": {
     "end_time": "2025-09-08T16:25:57.470207Z",
     "start_time": "2025-09-08T16:25:57.457490Z"
    }
   },
   "cell_type": "code",
   "source": [
    "class Person:\n",
    "\n",
    "    def __init__(self, name, color):\n",
    "        self.name = name\n",
    "        self.color = color\n",
    "        print('执行init')\n",
    "    def __new__(cls, *args, **kwargs):\n",
    "        print('执行new')\n",
    "\n",
    "vct = Person('Victoria', 'white')\n",
    "print(vct)\n",
    "# __new__没有返回对象实例，__init__未被执行，对象创建失败"
   ],
   "id": "ab6c9b96a3067ca8",
   "outputs": [
    {
     "name": "stdout",
     "output_type": "stream",
     "text": [
      "执行new\n",
      "None\n"
     ]
    }
   ],
   "execution_count": 2
  },
  {
   "metadata": {
    "ExecuteTime": {
     "end_time": "2025-09-08T16:25:57.505660Z",
     "start_time": "2025-09-08T16:25:57.492416Z"
    }
   },
   "cell_type": "code",
   "source": [
    "class Person:\n",
    "\n",
    "    def __init__(self, name, color):\n",
    "        self.name = name\n",
    "        self.color = color\n",
    "        print('执行init')\n",
    "\n",
    "    def __new__(cls, *args, **kwargs):\n",
    "        print('执行new')\n",
    "        return super().__new__(cls)  # 调用父类的__new__方法\n",
    "        # return object.__new__(cls)    # 调用根类object的__new__方法，更不灵活，不推荐使用\n",
    "\n",
    "\n",
    "vct = Person('Victoria', 'white')\n",
    "print(vct)"
   ],
   "id": "90a68ac3ba717741",
   "outputs": [
    {
     "name": "stdout",
     "output_type": "stream",
     "text": [
      "执行new\n",
      "执行init\n",
      "<__main__.Person object at 0x0000023286130C20>\n"
     ]
    }
   ],
   "execution_count": 3
  },
  {
   "metadata": {},
   "cell_type": "markdown",
   "source": "一个单例模式演示",
   "id": "3a202a3a0b39cc28"
  },
  {
   "metadata": {
    "ExecuteTime": {
     "end_time": "2025-09-08T16:25:57.555659Z",
     "start_time": "2025-09-08T16:25:57.533294Z"
    }
   },
   "cell_type": "code",
   "source": [
    "class Singleton:\n",
    "    _instance = None\n",
    "\n",
    "    def __new__(cls):\n",
    "        if cls._instance is None:\n",
    "            print(\"Creating new instance\")\n",
    "            cls._instance = super().__new__(cls)\n",
    "        else:\n",
    "            print(\"Instance already exists, returning it\")\n",
    "        return cls._instance\n",
    "\n",
    "\n",
    "# 测试\n",
    "s1 = Singleton()  # 输出: Creating new instance\n",
    "s2 = Singleton()  # 输出: Instance already exists, returning it\n",
    "print(s1 is s2)  # 输出: True (它们是同一个对象)"
   ],
   "id": "831fb562ba1231e2",
   "outputs": [
    {
     "name": "stdout",
     "output_type": "stream",
     "text": [
      "Creating new instance\n",
      "Instance already exists, returning it\n",
      "True\n"
     ]
    }
   ],
   "execution_count": 4
  },
  {
   "metadata": {},
   "cell_type": "markdown",
   "source": "#### 案例：双人对战",
   "id": "35e51b7679a26a54"
  },
  {
   "metadata": {
    "ExecuteTime": {
     "end_time": "2025-09-08T16:25:57.598955Z",
     "start_time": "2025-09-08T16:25:57.574317Z"
    }
   },
   "cell_type": "code",
   "source": [
    "class Player():\n",
    "\n",
    "    def __init__(self, name):\n",
    "        self.name = name\n",
    "        self.blood = 100\n",
    "        print(self)\n",
    "\n",
    "    def stab(self, opponent):\n",
    "        self.damage(opponent, 'stab', 10)\n",
    "\n",
    "    def strike(self, opponent):\n",
    "        self.damage(opponent, 'strike', 15)\n",
    "\n",
    "    def pill(self):\n",
    "        if self.blood >= 90:\n",
    "            print(f'{self.name} recovers {100 - self.blood} HP.')\n",
    "            self.blood = 100\n",
    "        else:\n",
    "            print(f'{self.name} recovers 10 HP.')\n",
    "            self.blood += 10\n",
    "        print(self)\n",
    "\n",
    "    def __str__(self):\n",
    "        return f'{self.name} has {self.blood} HP.'\n",
    "\n",
    "    def damage(self, opponent, method, damage):\n",
    "        actual_damage = min(damage, opponent.blood)\n",
    "        if opponent.blood <= damage:\n",
    "            print(f'{self.name} {method}s {opponent.name} for {actual_damage} HP.')\n",
    "            opponent.blood = 0\n",
    "            print(opponent)\n",
    "            print(f'{opponent.name} is dead')\n",
    "        else:\n",
    "            print(f'{self.name} {method}s {opponent.name} for {actual_damage} HP.')\n",
    "            opponent.blood -= damage\n",
    "            print(opponent)\n",
    "\n",
    "\n",
    "Tom = Player('Tom')\n",
    "Jerry = Player('Jerry')\n",
    "print()\n",
    "\n",
    "Tom.strike(Jerry)\n",
    "Tom.strike(Jerry)\n",
    "Tom.strike(Jerry)\n",
    "Tom.strike(Jerry)\n",
    "Tom.strike(Jerry)\n",
    "Tom.strike(Jerry)\n",
    "Tom.strike(Jerry)"
   ],
   "id": "6967850d9fbee597",
   "outputs": [
    {
     "name": "stdout",
     "output_type": "stream",
     "text": [
      "Tom has 100 HP.\n",
      "Jerry has 100 HP.\n",
      "\n",
      "Tom strikes Jerry for 15 HP.\n",
      "Jerry has 85 HP.\n",
      "Tom strikes Jerry for 15 HP.\n",
      "Jerry has 70 HP.\n",
      "Tom strikes Jerry for 15 HP.\n",
      "Jerry has 55 HP.\n",
      "Tom strikes Jerry for 15 HP.\n",
      "Jerry has 40 HP.\n",
      "Tom strikes Jerry for 15 HP.\n",
      "Jerry has 25 HP.\n",
      "Tom strikes Jerry for 15 HP.\n",
      "Jerry has 10 HP.\n",
      "Tom strikes Jerry for 10 HP.\n",
      "Jerry has 0 HP.\n",
      "Jerry is dead\n"
     ]
    }
   ],
   "execution_count": 5
  },
  {
   "metadata": {},
   "cell_type": "markdown",
   "source": [
    "#### `__`del`__`\n",
    "* 析构方法 (Deconstructor) 定义对象在“生命结束”前需执行的清理操作\n",
    "* 当对象即将被销毁时，python的垃圾回收机制 (Garbage Collector) 可能会调用它\n",
    "* 程序自然结束时自动调用析构方法\n",
    "* 特点1：调用时机不确定，由GC决定\n",
    "* 特点2：并非总是会被调用，如强制退出时（不可靠）"
   ],
   "id": "4610803628e86db1"
  },
  {
   "metadata": {},
   "cell_type": "markdown",
   "source": [
    "* 在Jupyter Notebook中重新运行一个单元格时，会先清理旧变量再执行新代码，不适合学习__del__\n",
    "* 更多详见 2.4 Deconstructor"
   ],
   "id": "58bb2e1e0e3b3b77"
  }
 ],
 "metadata": {
  "kernelspec": {
   "display_name": "Python 3",
   "language": "python",
   "name": "python3"
  },
  "language_info": {
   "codemirror_mode": {
    "name": "ipython",
    "version": 2
   },
   "file_extension": ".py",
   "mimetype": "text/x-python",
   "name": "python",
   "nbconvert_exporter": "python",
   "pygments_lexer": "ipython2",
   "version": "2.7.6"
  }
 },
 "nbformat": 4,
 "nbformat_minor": 5
}
