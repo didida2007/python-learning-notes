{
 "cells": [
  {
   "metadata": {},
   "cell_type": "markdown",
   "source": [
    "## 装饰器\n",
    "* 用一个函数装饰另外一个函数并为其提供额外的能力"
   ],
   "id": "c79b11c90e04f006"
  },
  {
   "metadata": {},
   "cell_type": "markdown",
   "source": "#### 例子",
   "id": "74f83297456910ab"
  },
  {
   "metadata": {
    "ExecuteTime": {
     "end_time": "2025-09-12T12:20:38.648837Z",
     "start_time": "2025-09-12T12:20:31.225455Z"
    }
   },
   "cell_type": "code",
   "source": [
    "import random\n",
    "import time\n",
    "\n",
    "\n",
    "def download(filename):\n",
    "    \"\"\"下载文件\"\"\"\n",
    "    print(f'开始下载{filename}.')\n",
    "    time.sleep(random.random() * 6)\n",
    "    print(f'{filename}下载完成.')\n",
    "\n",
    "\n",
    "def upload(filename):\n",
    "    \"\"\"上传文件\"\"\"\n",
    "    print(f'开始上传{filename}.')\n",
    "    time.sleep(random.random() * 8)\n",
    "    print(f'{filename}上传完成.')\n",
    "\n",
    "\n",
    "download('MySQL从删库到跑路.avi')\n",
    "upload('Python从入门到住院.pdf')"
   ],
   "id": "c036998616bd9d35",
   "outputs": [
    {
     "name": "stdout",
     "output_type": "stream",
     "text": [
      "开始下载MySQL从删库到跑路.avi.\n",
      "MySQL从删库到跑路.avi下载完成.\n",
      "开始上传Python从入门到住院.pdf.\n",
      "Python从入门到住院.pdf上传完成.\n"
     ]
    }
   ],
   "execution_count": 2
  },
  {
   "metadata": {
    "ExecuteTime": {
     "end_time": "2025-09-12T12:20:42.431053Z",
     "start_time": "2025-09-12T12:20:38.656084Z"
    }
   },
   "cell_type": "code",
   "source": [
    "start = time.time()\n",
    "download('MySQL从删库到跑路.avi')\n",
    "end = time.time()\n",
    "print(f'花费时间: {end - start:.2f}秒')\n",
    "start = time.time()\n",
    "upload('Python从入门到住院.pdf')\n",
    "end = time.time()\n",
    "print(f'花费时间: {end - start:.2f}秒')"
   ],
   "id": "acb5079e4953fcf8",
   "outputs": [
    {
     "name": "stdout",
     "output_type": "stream",
     "text": [
      "开始下载MySQL从删库到跑路.avi.\n",
      "MySQL从删库到跑路.avi下载完成.\n",
      "花费时间: 2.62秒\n",
      "开始上传Python从入门到住院.pdf.\n",
      "Python从入门到住院.pdf上传完成.\n",
      "花费时间: 1.15秒\n"
     ]
    }
   ],
   "execution_count": 3
  },
  {
   "metadata": {},
   "cell_type": "markdown",
   "source": "#### 重复代码？",
   "id": "ff93d674a70ddadc"
  },
  {
   "metadata": {
    "ExecuteTime": {
     "end_time": "2025-09-12T12:26:22.867679Z",
     "start_time": "2025-09-12T12:26:22.863100Z"
    }
   },
   "cell_type": "code",
   "source": [
    "def record_time(func):                    # 装饰func()\n",
    "\n",
    "    def wrapper(*args, **kwargs):         # 不清楚func的参数，因此传递所有可变参数和关键字参数\n",
    "                                          # python支持函数的嵌套定义\n",
    "        result = func(*args, **kwargs)\n",
    "                                          # 中间的空行插入装饰内容\n",
    "        return result\n",
    "\n",
    "    return wrapper                        # 返回新的函数"
   ],
   "id": "8023c1510d1f5d7e",
   "outputs": [],
   "execution_count": 5
  },
  {
   "metadata": {},
   "cell_type": "markdown",
   "source": "#### 解决",
   "id": "371684d70d65de2e"
  },
  {
   "metadata": {
    "ExecuteTime": {
     "end_time": "2025-09-12T12:26:26.240911Z",
     "start_time": "2025-09-12T12:26:26.235901Z"
    }
   },
   "cell_type": "code",
   "source": [
    "import time\n",
    "\n",
    "def record_time(func):\n",
    "\n",
    "    def wrapper(*args, **kwargs):\n",
    "        # 在执行被装饰的函数之前记录开始时间\n",
    "        start = time.time()\n",
    "        # 执行被装饰的函数并获取返回值\n",
    "        result = func(*args, **kwargs)\n",
    "        # 在执行被装饰的函数之后记录结束时间\n",
    "        end = time.time()\n",
    "        # 计算和显示被装饰函数的执行时间\n",
    "        print(f'{func.__name__}执行时间: {end - start:.2f}秒')\n",
    "        # 返回被装饰函数的返回值\n",
    "        return result\n",
    "\n",
    "    return wrapper"
   ],
   "id": "b284552f1f96b212",
   "outputs": [],
   "execution_count": 6
  },
  {
   "metadata": {},
   "cell_type": "code",
   "outputs": [],
   "execution_count": null,
   "source": [
    "download = record_time(download)    # download()实际上是wrapper()\n",
    "upload = record_time(upload)\n",
    "download('MySQL从删库到跑路.avi')\n",
    "upload('Python从入门到住院.pdf')"
   ],
   "id": "ddf896aeae6c0ba0"
  },
  {
   "metadata": {},
   "cell_type": "markdown",
   "source": [
    "#### 语法糖\n",
    "* 将 @装饰器函数 放在被装饰的函数上"
   ],
   "id": "6231d98a63e0f5e2"
  },
  {
   "metadata": {
    "ExecuteTime": {
     "end_time": "2025-09-12T12:31:17.974762Z",
     "start_time": "2025-09-12T12:31:17.968612Z"
    }
   },
   "cell_type": "code",
   "source": [
    "def download(filename):\n",
    "    \"\"\"下载文件\"\"\"\n",
    "    print(f'开始下载{filename}.')\n",
    "    time.sleep(random.random() * 6)\n",
    "    print(f'{filename}下载完成.')\n",
    "\n",
    "download = record_time(download)\n",
    "\n",
    "# 等同于\n",
    "\n",
    "@record_time\n",
    "def download(filename):\n",
    "    \"\"\"下载文件\"\"\"\n",
    "    print(f'开始下载{filename}.')\n",
    "    time.sleep(random.random() * 6)\n",
    "    print(f'{filename}下载完成.')"
   ],
   "id": "6de2c09b8b318ebe",
   "outputs": [],
   "execution_count": 7
  },
  {
   "metadata": {},
   "cell_type": "markdown",
   "source": "#### 完整代码",
   "id": "e2f7e2493c18d146"
  },
  {
   "metadata": {
    "ExecuteTime": {
     "end_time": "2025-09-12T12:32:32.903333Z",
     "start_time": "2025-09-12T12:32:26.118014Z"
    }
   },
   "cell_type": "code",
   "source": [
    "import random\n",
    "import time\n",
    "\n",
    "\n",
    "def record_time(func):\n",
    "\n",
    "    def wrapper(*args, **kwargs):\n",
    "        start = time.time()\n",
    "        result = func(*args, **kwargs)\n",
    "        end = time.time()\n",
    "        print(f'{func.__name__}执行时间: {end - start:.2f}秒')\n",
    "        return result\n",
    "\n",
    "    return wrapper\n",
    "\n",
    "\n",
    "@record_time\n",
    "def download(filename):\n",
    "    print(f'开始下载{filename}.')\n",
    "    time.sleep(random.random() * 6)\n",
    "    print(f'{filename}下载完成.')\n",
    "\n",
    "\n",
    "@record_time\n",
    "def upload(filename):\n",
    "    print(f'开始上传{filename}.')\n",
    "    time.sleep(random.random() * 8)\n",
    "    print(f'{filename}上传完成.')\n",
    "\n",
    "\n",
    "download('MySQL从删库到跑路.avi')\n",
    "upload('Python从入门到住院.pdf')"
   ],
   "id": "cc6440c8d95a8b91",
   "outputs": [
    {
     "name": "stdout",
     "output_type": "stream",
     "text": [
      "开始下载MySQL从删库到跑路.avi.\n",
      "MySQL从删库到跑路.avi下载完成.\n",
      "download执行时间: 5.08秒\n",
      "开始上传Python从入门到住院.pdf.\n",
      "Python从入门到住院.pdf上传完成.\n",
      "upload执行时间: 1.70秒\n"
     ]
    }
   ],
   "execution_count": 8
  },
  {
   "metadata": {},
   "cell_type": "markdown",
   "source": [
    "#### 取消装饰？\n",
    "* 用 functools.wraps() 装饰 wrapper() 以保留装饰前的函数\n",
    "\n",
    "* 用被装饰函数的__wrapped__属性访问装饰前的函数"
   ],
   "id": "e48af39324737abe"
  },
  {
   "metadata": {
    "ExecuteTime": {
     "end_time": "2025-09-12T12:51:14.928513Z",
     "start_time": "2025-09-12T12:50:59.078261Z"
    }
   },
   "cell_type": "code",
   "source": [
    "import random\n",
    "import time\n",
    "\n",
    "from functools import wraps\n",
    "\n",
    "\n",
    "def record_time(func):\n",
    "\n",
    "    @wraps(func)\n",
    "    def wrapper(*args, **kwargs):\n",
    "        start = time.time()\n",
    "        result = func(*args, **kwargs)\n",
    "        end = time.time()\n",
    "        print(f'{func.__name__}执行时间: {end - start:.2f}秒')\n",
    "        return result\n",
    "\n",
    "    return wrapper\n",
    "\n",
    "\n",
    "@record_time\n",
    "def download(filename):\n",
    "    print(f'开始下载{filename}.')\n",
    "    time.sleep(random.random() * 6)\n",
    "    print(f'{filename}下载完成.')\n",
    "\n",
    "\n",
    "@record_time\n",
    "def upload(filename):\n",
    "    print(f'开始上传{filename}.')\n",
    "    time.sleep(random.random() * 8)\n",
    "    print(f'{filename}上传完成.')\n",
    "\n",
    "\n",
    "# 调用装饰后的函数会记录执行时间\n",
    "download('MySQL从删库到跑路.avi')\n",
    "upload('Python从入门到住院.pdf')\n",
    "# 取消装饰器的作用不记录执行时间\n",
    "download.__wrapped__('MySQL必知必会.pdf')\n",
    "upload.__wrapped__('Python从新手到大师.pdf')"
   ],
   "id": "45cb7bbbd15b7e41",
   "outputs": [
    {
     "name": "stdout",
     "output_type": "stream",
     "text": [
      "开始下载MySQL从删库到跑路.avi.\n",
      "MySQL从删库到跑路.avi下载完成.\n",
      "download执行时间: 4.61秒\n",
      "开始上传Python从入门到住院.pdf.\n",
      "Python从入门到住院.pdf上传完成.\n",
      "upload执行时间: 2.67秒\n",
      "开始下载MySQL必知必会.pdf.\n",
      "MySQL必知必会.pdf下载完成.\n",
      "开始上传Python从新手到大师.pdf.\n",
      "Python从新手到大师.pdf上传完成.\n"
     ]
    }
   ],
   "execution_count": 9
  },
  {
   "metadata": {},
   "cell_type": "markdown",
   "source": "## 递归",
   "id": "bc59b2b366aa889d"
  },
  {
   "metadata": {
    "ExecuteTime": {
     "end_time": "2025-09-12T13:15:54.081508Z",
     "start_time": "2025-09-12T13:15:54.075888Z"
    }
   },
   "cell_type": "code",
   "source": [
    "def fac(n):\n",
    "    if n == 0:\n",
    "        return 1\n",
    "    return n * fac(n - 1)\n",
    "\n",
    "# 递归调用函数入栈\n",
    "# 5 * fac(4)\n",
    "# 5 * (4 * fac(3))\n",
    "# 5 * (4 * (3 * fac(2)))\n",
    "# 5 * (4 * (3 * (2 * fac(1))))\n",
    "# 停止递归函数出栈\n",
    "# 5 * (4 * (3 * (2 * 1)))\n",
    "# 5 * (4 * (3 * 2))\n",
    "# 5 * (4 * 6)\n",
    "# 5 * 24\n",
    "# 120\n",
    "\n",
    "print(fac(5))    # 120"
   ],
   "id": "c7ddde6eb7ac5a46",
   "outputs": [
    {
     "name": "stdout",
     "output_type": "stream",
     "text": [
      "120\n"
     ]
    }
   ],
   "execution_count": 10
  },
  {
   "metadata": {},
   "cell_type": "markdown",
   "source": [
    "#### 栈\n",
    "* 函数调用时会通过栈（stack）来保存代码的执行现场，函数调用结束时会通过这个栈来恢复之前的执行现场。\n",
    "* 栈是一种先进后出的数据结构，比如 f1(f2(f3)))，f1 最先入栈，f2 最先出栈\n",
    "* 每进入一个函数调用，栈会增加一层栈帧（stack frame）每结束一个函数调用，栈会减少一层栈帧\n",
    "* 内存空间中的栈空间很少，递归次数太多，会导致栈溢出（stack overflow）\n",
    "* 官方解释器默认的栈结构最大深度为 1000\n",
    "* 所以递归调用一定要保证快速收敛"
   ],
   "id": "e9602132ab40e545"
  },
  {
   "metadata": {},
   "cell_type": "code",
   "outputs": [],
   "execution_count": null,
   "source": [
    "# fac(5000)\n",
    "# RecursionError: maximum recursion depth exceeded"
   ],
   "id": "e1d7742a34690dec"
  },
  {
   "metadata": {},
   "cell_type": "markdown",
   "source": "#### 效率对比",
   "id": "da6e0786d666ca90"
  },
  {
   "metadata": {
    "ExecuteTime": {
     "end_time": "2025-09-12T13:19:08.143916Z",
     "start_time": "2025-09-12T13:19:02.679342Z"
    }
   },
   "cell_type": "code",
   "source": [
    "import time\n",
    "# 递归\n",
    "start = time.time()\n",
    "\n",
    "def fib1(n):\n",
    "    if n in (1, 2):\n",
    "        return 1\n",
    "    return fib1(n - 1) + fib1(n - 2)\n",
    "\n",
    "for i in range(1, 36):\n",
    "    print(fib1(i), end=' ')\n",
    "\n",
    "end = time.time()\n",
    "print(f'\\n\\n递归运行时间: {end - start:.4f}秒')"
   ],
   "id": "a89d82aa78c3ccbc",
   "outputs": [
    {
     "name": "stdout",
     "output_type": "stream",
     "text": [
      "1 1 2 3 5 8 13 21 34 55 89 144 233 377 610 987 1597 2584 4181 6765 10946 17711 28657 46368 75025 121393 196418 317811 514229 832040 1346269 2178309 3524578 5702887 9227465 \n",
      "\n",
      "递归运行时间: 5.4562秒\n"
     ]
    }
   ],
   "execution_count": 11
  },
  {
   "metadata": {
    "ExecuteTime": {
     "end_time": "2025-09-12T13:21:33.524841Z",
     "start_time": "2025-09-12T13:21:33.517423Z"
    }
   },
   "cell_type": "code",
   "source": [
    "import time\n",
    "\n",
    "# 循环递推\n",
    "start = time.time()\n",
    "\n",
    "def fib2(n):\n",
    "    a, b = 0, 1\n",
    "    for _ in range(n):\n",
    "        a, b = b, a + b\n",
    "    return a\n",
    "\n",
    "for i in range(1, 36):\n",
    "    print(fib2(i), end=' ')\n",
    "\n",
    "end = time.time()\n",
    "print()\n",
    "print(f'\\n\\n循环递推运行时间: {end - start:.4f}秒\\n')"
   ],
   "id": "64b308281623eb99",
   "outputs": [
    {
     "name": "stdout",
     "output_type": "stream",
     "text": [
      "1 1 2 3 5 8 13 21 34 55 89 144 233 377 610 987 1597 2584 4181 6765 10946 17711 28657 46368 75025 121393 196418 317811 514229 832040 1346269 2178309 3524578 5702887 9227465 \n",
      "\n",
      "\n",
      "循环递推运行时间: 0.0019秒\n",
      "\n"
     ]
    }
   ],
   "execution_count": 16
  },
  {
   "metadata": {},
   "cell_type": "markdown",
   "source": [
    "#### 递归效率优化\n",
    "* functools.lru_cache()\n",
    "* 减少大量重复运算"
   ],
   "id": "699e237550e35397"
  },
  {
   "metadata": {
    "ExecuteTime": {
     "end_time": "2025-09-12T13:21:26.616354Z",
     "start_time": "2025-09-12T13:21:26.609691Z"
    }
   },
   "cell_type": "code",
   "source": [
    "import time\n",
    "from functools import lru_cache\n",
    "\n",
    "start = time.time()\n",
    "\n",
    "@lru_cache()\n",
    "def fib1(n):\n",
    "    if n in (1, 2):\n",
    "        return 1\n",
    "    return fib1(n - 1) + fib1(n - 2)\n",
    "\n",
    "for i in range(1, 36):\n",
    "    print(fib1(i), end=' ')\n",
    "\n",
    "end = time.time()\n",
    "print(f'\\n\\n递归运行时间: {end - start:.4f}秒')"
   ],
   "id": "b2551d069013f661",
   "outputs": [
    {
     "name": "stdout",
     "output_type": "stream",
     "text": [
      "1 1 2 3 5 8 13 21 34 55 89 144 233 377 610 987 1597 2584 4181 6765 10946 17711 28657 46368 75025 121393 196418 317811 514229 832040 1346269 2178309 3524578 5702887 9227465 \n",
      "\n",
      "递归运行时间: 0.0011秒\n"
     ]
    }
   ],
   "execution_count": 15
  }
 ],
 "metadata": {
  "kernelspec": {
   "display_name": "Python 3",
   "language": "python",
   "name": "python3"
  },
  "language_info": {
   "codemirror_mode": {
    "name": "ipython",
    "version": 2
   },
   "file_extension": ".py",
   "mimetype": "text/x-python",
   "name": "python",
   "nbconvert_exporter": "python",
   "pygments_lexer": "ipython2",
   "version": "2.7.6"
  }
 },
 "nbformat": 4,
 "nbformat_minor": 5
}
