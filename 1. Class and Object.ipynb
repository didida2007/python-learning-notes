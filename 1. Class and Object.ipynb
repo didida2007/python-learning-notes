{
 "cells": [
  {
   "metadata": {
    "collapsed": true
   },
   "cell_type": "markdown",
   "source": "## 对象",
   "id": "3a1088cdc5554551"
  },
  {
   "metadata": {},
   "cell_type": "markdown",
   "source": [
    "#### 面向对象\n",
    "* 面向过程：将问题分解为步骤与函数（怎么做）\n",
    "    * PP (Procedural Programming)\n",
    "    * 数据与函数分离\n",
    "* 面向对象：将问题分解为对象和它们的交互（谁来做）\n",
    "    * OOP (Object-Oriented Programming)\n",
    "    * 数据与函数封装在一起"
   ],
   "id": "ca1bc59ff50d5cbd"
  },
  {
   "metadata": {},
   "cell_type": "markdown",
   "source": [
    "#### 类与对象\n",
    "* 类 (Class)：具有相似特征【属性】和行为【方法】的一系列对象的集合\n",
    "    * 可以理解为一张图纸，占用很少的内存\n",
    "* 类的构成：\n",
    "    * 名称：类名\n",
    "    * 属性：一组数据\n",
    "    * 方法：允许对类进行操作的行为\n",
    "* 对象 (Object)：实例，实际存在的东西，类的实例化\n",
    "    * 根据图纸创建出来的，占用内存的东西\n",
    "* 例子：\n",
    "    * Object: Alice; Class: Person"
   ],
   "id": "153d7bf5f11392ce"
  },
  {
   "metadata": {},
   "cell_type": "markdown",
   "source": [
    "#### 实例方法\n",
    "* Instance Method\n",
    "* 在类的内部用def定义\n",
    "* 第一个参数必须是 self (可以叫其他名字)\n",
    "* 方法内部定义(self.)的变量叫实例属性，方法外部定义的变量叫类属性"
   ],
   "id": "95adee96b69a93a"
  },
  {
   "metadata": {
    "ExecuteTime": {
     "end_time": "2025-09-08T16:27:48.998749Z",
     "start_time": "2025-09-08T16:27:48.982755Z"
    }
   },
   "cell_type": "code",
   "source": [
    "from pickletools import name2i\n",
    "\n",
    "\n",
    "# 创建类\n",
    "class Person:    # 类名大写\n",
    "# 默认 class Person(object):\n",
    "# python3中可以省略object\n",
    "\n",
    "    name = 'Alice'    # 类属性\n",
    "    age = 17\n",
    "\n",
    "    def __init__(self):    # 初始化方法\n",
    "        self.color = 'cyan'    # 实例属性\n",
    "\n",
    "    def jump(self):    # 实例方法\n",
    "        print('Into the rabbit hole!')\n",
    "\n",
    "    def drink(params):    # 不一定要叫self\n",
    "        print('Shrink!')\n",
    "\n",
    "def normal_function():    # 普通方法\n",
    "    print('Normal function')"
   ],
   "id": "a71392a3455d32f6",
   "outputs": [],
   "execution_count": 1
  },
  {
   "metadata": {
    "ExecuteTime": {
     "end_time": "2025-09-08T16:27:49.088974Z",
     "start_time": "2025-09-08T16:27:49.071370Z"
    }
   },
   "cell_type": "code",
   "source": [
    "class Animal:\n",
    "    species = 'dog'  # 这是一个类属性，所有实例共享\n",
    "\n",
    "# 创建两个实例\n",
    "dog1 = Animal()\n",
    "dog2 = Animal()\n",
    "\n",
    "print(\"初始状态:\")\n",
    "print(f\"Animal.species: {Animal.species}\") # 输出: dog\n",
    "print(f\"dog1.species: {dog1.species}\")     # 输出: dog (找不到实例属性，于是找到类属性)\n",
    "print(f\"dog2.species: {dog2.species}\")     # 输出: dog (找不到实例属性，于是找到类属性)\n",
    "\n",
    "print(\"\\n--- 执行 dog1.species = 'cat' ---\")\n",
    "# 【关键操作】为 dog1 实例添加一个同名的实例属性\n",
    "dog1.species = 'cat'\n",
    "\n",
    "print(\"操作后状态:\")\n",
    "print(f\"Animal.species (类属性未变): {Animal.species}\") # 输出: dog (类属性纹丝不动)\n",
    "print(f\"dog1.species (访问实例属性): {dog1.species}\")   # 输出: cat (Python先在dog1自身找到了species，就直接返回，不再去类里找)\n",
    "print(f\"dog2.species (仍访问类属性): {dog2.species}\")   # 输出: dog (dog2自身没有species，所以继续找到类属性)\n",
    "\n",
    "print(\"\\n--- 修改类属性 Animal.species = 'bird' ---\")\n",
    "# 现在我们来修改类本身的性质\n",
    "Animal.species = 'bird'\n",
    "\n",
    "print(\"修改类属性后状态:\")\n",
    "print(f\"Animal.species (类属性已改): {Animal.species}\") # 输出: bird\n",
    "print(f\"dog1.species (仍访问自己的实例属性): {dog1.species}\") # 输出: cat (不受影响，因为它有自己的副本)\n",
    "print(f\"dog2.species (访问新的类属性): {dog2.species}\")     # 输出: bird (它没有实例属性，所以访问到的是更新后的类属性)"
   ],
   "id": "c046376714fa5ebc",
   "outputs": [
    {
     "name": "stdout",
     "output_type": "stream",
     "text": [
      "初始状态:\n",
      "Animal.species: dog\n",
      "dog1.species: dog\n",
      "dog2.species: dog\n",
      "\n",
      "--- 执行 dog1.species = 'cat' ---\n",
      "操作后状态:\n",
      "Animal.species (类属性未变): dog\n",
      "dog1.species (访问实例属性): cat\n",
      "dog2.species (仍访问类属性): dog\n",
      "\n",
      "--- 修改类属性 Animal.species = 'bird' ---\n",
      "修改类属性后状态:\n",
      "Animal.species (类属性已改): bird\n",
      "dog1.species (仍访问自己的实例属性): cat\n",
      "dog2.species (访问新的类属性): bird\n"
     ]
    }
   ],
   "execution_count": 3
  },
  {
   "metadata": {
    "ExecuteTime": {
     "end_time": "2025-09-08T16:27:49.040130Z",
     "start_time": "2025-09-08T16:27:49.029097Z"
    }
   },
   "cell_type": "code",
   "outputs": [
    {
     "name": "stdout",
     "output_type": "stream",
     "text": [
      "Alice is 17 years old.\n",
      "Into the rabbit hole!\n",
      "cyan\n"
     ]
    }
   ],
   "execution_count": 2,
   "source": [
    "# 创建对象【类的实例化】\n",
    "alc = Person()\n",
    "print(f'{alc.name} is {alc.age} years old.')\n",
    "alc.jump()\n",
    "print(alc.color)"
   ],
   "id": "e2936b3a4f870b5b"
  },
  {
   "metadata": {},
   "cell_type": "markdown",
   "source": [
    "#### `__`init`__`\n",
    "* 初始化函数/构造函数\n",
    "* python自带的方法【魔术方法】\n",
    "* 创建对象时自动调用"
   ],
   "id": "7e4551f039e85360"
  },
  {
   "metadata": {
    "ExecuteTime": {
     "end_time": "2025-09-08T16:27:49.119805Z",
     "start_time": "2025-09-08T16:27:49.109756Z"
    }
   },
   "cell_type": "code",
   "source": [
    "class Animal:\n",
    "\n",
    "    def __init__(self):\n",
    "        self.color = 'red'\n",
    "\n",
    "cat = Animal()\n",
    "print(cat.color)\n",
    "cat.color = 'yellow'\n",
    "print(cat.color)"
   ],
   "id": "e215b2ce861ad6ef",
   "outputs": [
    {
     "name": "stdout",
     "output_type": "stream",
     "text": [
      "red\n",
      "yellow\n"
     ]
    }
   ],
   "execution_count": 4
  },
  {
   "metadata": {
    "ExecuteTime": {
     "end_time": "2025-09-08T16:27:49.154530Z",
     "start_time": "2025-09-08T16:27:49.141276Z"
    }
   },
   "cell_type": "code",
   "source": [
    "class Animal:\n",
    "\n",
    "#     def __init__(self, name, color):\n",
    "#         pass\n",
    "# 传入了参数，但未赋予属性\n",
    "# cat = Animal('Meow', 'gold')\n",
    "# print(cat.name, cat.color)\n",
    "# AttributeError: 'Animal' object has no attribute\n",
    "\n",
    "    def __init__(self, name, color):\n",
    "        self.name = name\n",
    "        self.color = color\n",
    "\n",
    "cat = Animal('Meow', 'gold')\n",
    "print(cat.name, cat.color)"
   ],
   "id": "34b036309a94b315",
   "outputs": [
    {
     "name": "stdout",
     "output_type": "stream",
     "text": [
      "Meow gold\n"
     ]
    }
   ],
   "execution_count": 5
  },
  {
   "metadata": {
    "ExecuteTime": {
     "end_time": "2025-09-08T16:27:49.189481Z",
     "start_time": "2025-09-08T16:27:49.177772Z"
    }
   },
   "cell_type": "code",
   "source": [
    "# *传递参数\n",
    "class Animal:    # 类名Animal指向新建的类对象，并没有覆盖老的类对象\n",
    "\n",
    "    def __init__(self, name):\n",
    "        self.name = name\n",
    "\n",
    "    def eat(self, food):\n",
    "        print(f'{self.name} eats {food}')\n",
    "\n",
    "cat = Animal('Meow')\n",
    "cat.eat('fish')\n",
    "cat = Animal('Woof')    # 变量名cat指向新建的对象\n",
    "cat.eat('meat')    # 之前的名为Meow的对象会在某一时刻被python回收，即引用丢失"
   ],
   "id": "1c4b857ad4c0e3e1",
   "outputs": [
    {
     "name": "stdout",
     "output_type": "stream",
     "text": [
      "Meow eats fish\n",
      "Woof eats meat\n"
     ]
    }
   ],
   "execution_count": 6
  },
  {
   "metadata": {},
   "cell_type": "markdown",
   "source": [
    "#### self\n",
    "* 实例方法的首个参数（可以叫其他名字）\n",
    "* 与对象指向同一个内存地址，即对象的引用"
   ],
   "id": "ec2dba6dc98df311"
  },
  {
   "metadata": {
    "ExecuteTime": {
     "end_time": "2025-09-08T16:27:49.220297Z",
     "start_time": "2025-09-08T16:27:49.209711Z"
    }
   },
   "cell_type": "code",
   "source": [
    "class Car:\n",
    "\n",
    "    def getid(self):\n",
    "        print(self)    # 直接打印对象：<类名 object at 内存地址>\n",
    "        print(id(self))    # 对象内存地址的十进制形式\n",
    "\n",
    "bmw = Car()\n",
    "# 实例化对象时，self不需要手动传入参数，python自动将对象传递给self\n",
    "\n",
    "bmw.getid()\n",
    "# 等同于\n",
    "Car.getid(bmw)\n",
    "\n",
    "print(id(bmw))    # 对象和self的内存地址相同\n",
    "benz = Car()"
   ],
   "id": "a00d22722162b344",
   "outputs": [
    {
     "name": "stdout",
     "output_type": "stream",
     "text": [
      "<__main__.Car object at 0x000001A4D59106E0>\n",
      "1807469315808\n",
      "<__main__.Car object at 0x000001A4D59106E0>\n",
      "1807469315808\n",
      "1807469315808\n"
     ]
    }
   ],
   "execution_count": 7
  },
  {
   "metadata": {
    "ExecuteTime": {
     "end_time": "2025-09-08T16:27:49.256381Z",
     "start_time": "2025-09-08T16:27:49.245649Z"
    }
   },
   "cell_type": "code",
   "source": [
    "class Animal:\n",
    "    def eat(self, name, food):\n",
    "        print(f'{name} eats {food}')\n",
    "\n",
    "cat = Animal()\n",
    "# cat.eat()\n",
    "# TypeError: Animal.eat() missing 2 required positional arguments: 'name' and 'food'\n",
    "# Not missing 3 arguments, because self is passed\n",
    "\n",
    "cat.eat('Meow', 'fish')"
   ],
   "id": "2911f1d9110da73d",
   "outputs": [
    {
     "name": "stdout",
     "output_type": "stream",
     "text": [
      "Meow eats fish\n"
     ]
    }
   ],
   "execution_count": 8
  },
  {
   "metadata": {
    "ExecuteTime": {
     "end_time": "2025-09-08T16:27:49.292084Z",
     "start_time": "2025-09-08T16:27:49.279492Z"
    }
   },
   "cell_type": "code",
   "source": [
    "class Animal:\n",
    "\n",
    "    def __init__(self, personality):\n",
    "        self.personality = personality\n",
    "\n",
    "    def desc(self, name):\n",
    "        print(f'{name} is {self.personality}')\n",
    "\n",
    "dog = Animal('shy')    # dog.personality = 'shy'\n",
    "dog.desc('Woof')    # self = dog, self.personality = 'shy'"
   ],
   "id": "6494647fb225a212",
   "outputs": [
    {
     "name": "stdout",
     "output_type": "stream",
     "text": [
      "Woof is shy\n"
     ]
    }
   ],
   "execution_count": 9
  },
  {
   "metadata": {},
   "cell_type": "markdown",
   "source": "## 方法",
   "id": "e9fd8e071b635a39"
  },
  {
   "metadata": {},
   "cell_type": "markdown",
   "source": [
    "#### 实例方法\n",
    "* 装饰器：无\n",
    "* 第一个参数：self\n",
    "* 访问实例属性：yes\n",
    "* 访问及修改类属性：yes\n",
    "* 调用方式：实例\n",
    "* 主要用途：操作实例数据"
   ],
   "id": "f30791ce8fb8fc07"
  },
  {
   "metadata": {},
   "cell_type": "markdown",
   "source": [
    "#### 类方法\n",
    "* 装饰器：@classmethod\n",
    "* 第一个参数：cls\n",
    "* 访问实例属性：no\n",
    "* 访问及修改类属性：yes\n",
    "* 调用方式：类或实例\n",
    "* 主要用途：操作类数据，工厂方法（创建实例）"
   ],
   "id": "225855fe9124f332"
  },
  {
   "metadata": {},
   "cell_type": "code",
   "outputs": [],
   "execution_count": null,
   "source": [
    "class Person:\n",
    "    country = 'china'\n",
    "\n",
    "    @classmethod    # 将方法标记为类方法\n",
    "    def get_country(cls):\n",
    "        return cls.country    # 访问类属性\n",
    "\n",
    "    @classmethod\n",
    "    def change_country(cls, data):\n",
    "        cls.country = data    # 修改类属性\n",
    "\n",
    "alice = Person()\n",
    "\n",
    "Person.change_country('japan')\n",
    "print(Person.get_country())    # 类调用类方法修改类属性\n",
    "\n",
    "alice.change_country('usa')\n",
    "print(alice.get_country())    # 实例调用类方法修改类属性"
   ],
   "id": "9e5d1b222926f7d8"
  },
  {
   "metadata": {
    "ExecuteTime": {
     "end_time": "2025-09-10T15:09:12.437908Z",
     "start_time": "2025-09-10T15:09:12.430225Z"
    }
   },
   "cell_type": "code",
   "source": [
    "class TimeTest:\n",
    "    def __init__(self, hour, minute, second):\n",
    "        self.hour = hour\n",
    "        self.minute = minute\n",
    "        self.second = second\n",
    "\n",
    "    def display(self):\n",
    "        return f\"{self.hour:02d}:{self.minute:02d}:{self.second:02d}\"\n",
    "\n",
    "    @classmethod\n",
    "    def from_current_time(cls):\n",
    "        \"\"\"工厂方法：根据当前时间创建实例\"\"\"\n",
    "        now = time.localtime()\n",
    "        # 使用 cls() 而不是 TimeTest() 是为了支持继承\n",
    "        return cls(now.tm_hour, now.tm_min, now.tm_sec)\n",
    "\n",
    "    @classmethod\n",
    "    def from_string(cls, time_str):\n",
    "        \"\"\"工厂方法：从字符串创建实例\"\"\"\n",
    "        hours, minutes, seconds = map(int, time_str.split(':'))\n",
    "        return cls(hours, minutes, seconds)\n",
    "\n",
    "# 使用类方法创建实例（这才是类方法的价值所在！）\n",
    "current_time = TimeTest.from_current_time()  # ✅ 创建有意义的实例\n",
    "print(current_time.display())  # 输出当前时间，如: 14:30:45\n",
    "\n",
    "from_string_time = TimeTest.from_string(\"08:15:30\")  # ✅ 另一种创建方式\n",
    "print(from_string_time.display())  # 输出: 08:15:30"
   ],
   "id": "3b050706cc00fa04",
   "outputs": [
    {
     "name": "stdout",
     "output_type": "stream",
     "text": [
      "23:09:12\n",
      "08:15:30\n"
     ]
    }
   ],
   "execution_count": 3
  },
  {
   "metadata": {},
   "cell_type": "markdown",
   "source": [
    "#### 静态方法\n",
    "* 装饰器：@staticmethod\n",
    "* 第一个参数：无\n",
    "* 访问实例属性：no\n",
    "* 访问及修改类属性：no\n",
    "* 调用方式：类或实例\n",
    "* 主要用途：工具函数（组织代码）"
   ],
   "id": "8cbea4ce41f0ffcd"
  },
  {
   "metadata": {
    "ExecuteTime": {
     "end_time": "2025-09-10T14:54:59.299400Z",
     "start_time": "2025-09-10T14:54:59.287189Z"
    }
   },
   "cell_type": "code",
   "source": [
    "import time    # 引入时间模块\n",
    "\n",
    "class TimeTest:\n",
    "    @staticmethod    # 将方法标记为静态方法\n",
    "    def showTime():\n",
    "        return time.strftime(\"%H:%M:%S\", time.localtime())\n",
    "\n",
    "print(TimeTest.showTime())    # 类可以访问静态方法\n",
    "# 没必要创建实例，因为它的功能与类的实例化完全无关"
   ],
   "id": "c7d687ade19a8db3",
   "outputs": [
    {
     "name": "stdout",
     "output_type": "stream",
     "text": [
      "22:54:59\n"
     ]
    }
   ],
   "execution_count": 1
  },
  {
   "metadata": {},
   "cell_type": "markdown",
   "source": "#### 类方法与静态方法的继承区别",
   "id": "d709be28febce238"
  },
  {
   "metadata": {
    "ExecuteTime": {
     "end_time": "2025-09-10T15:11:06.791179Z",
     "start_time": "2025-09-10T15:11:06.786414Z"
    }
   },
   "cell_type": "code",
   "source": [
    "class Person:\n",
    "    country = 'china'\n",
    "\n",
    "    @classmethod\n",
    "    def class_country(cls):\n",
    "        return cls.country  # 动态查找：通过传入的cls参数\n",
    "\n",
    "    @staticmethod\n",
    "    def static_country():\n",
    "        return Person.country  # 硬编码：直接写死类名\n",
    "\n",
    "# 测试\n",
    "print(Person.class_country())  # 输出: china\n",
    "print(Person.static_country()) # 输出: china\n",
    "\n",
    "# 现在看起来结果一样，但是..."
   ],
   "id": "dd33b20ad796eb3e",
   "outputs": [
    {
     "name": "stdout",
     "output_type": "stream",
     "text": [
      "china\n",
      "china\n"
     ]
    }
   ],
   "execution_count": 5
  },
  {
   "metadata": {
    "ExecuteTime": {
     "end_time": "2025-09-10T15:11:45.556939Z",
     "start_time": "2025-09-10T15:11:45.550859Z"
    }
   },
   "cell_type": "code",
   "source": [
    "class ChinesePerson(Person):\n",
    "    country = '中国'  # 子类重写了类属性\n",
    "\n",
    "class AmericanPerson(Person):\n",
    "    country = 'usa'  # 另一个子类也重写了类属性\n",
    "\n",
    "# 测试区别\n",
    "print(\"=== 类方法 ===\")\n",
    "print(ChinesePerson.class_country())  # 输出: 中国 ✅\n",
    "print(AmericanPerson.class_country()) # 输出: usa   ✅\n",
    "\n",
    "print(\"=== 静态方法 ===\")\n",
    "print(ChinesePerson.static_country())  # 输出: china ❌\n",
    "print(AmericanPerson.static_country()) # 输出: china ❌"
   ],
   "id": "9064c01f4638e85d",
   "outputs": [
    {
     "name": "stdout",
     "output_type": "stream",
     "text": [
      "=== 类方法 ===\n",
      "中国\n",
      "usa\n",
      "=== 静态方法 ===\n",
      "china\n",
      "china\n"
     ]
    }
   ],
   "execution_count": 6
  },
  {
   "metadata": {},
   "cell_type": "markdown",
   "source": "## 属性",
   "id": "4bb27fd41fd41e70"
  },
  {
   "metadata": {},
   "cell_type": "markdown",
   "source": [
    "#### 私有属性\n",
    "* 对象无法访问的属性\n",
    "* 格式：__属性名\n",
    "* 本质上并不是真正的私有，而是名称修饰（name mangling）实现的伪私有\n",
    "* 原理：将属性重命名为 _类名__属性名\n",
    "* Python 的设计哲学：We are all consenting adults"
   ],
   "id": "b7033ee1a760b82e"
  },
  {
   "metadata": {
    "ExecuteTime": {
     "end_time": "2025-09-13T11:38:17.664689Z",
     "start_time": "2025-09-13T11:38:17.657148Z"
    }
   },
   "cell_type": "code",
   "source": [
    "class Student:\n",
    "\n",
    "    def __init__(self, name, age):\n",
    "        self.__name = name          # 实际存储为 _Student__name\n",
    "        self.__age = age            # 实际存储为 _Student__age\n",
    "\n",
    "    def study(self, course_name):\n",
    "        print(f'{self.__name}正在学习{course_name}.')\n",
    "\n",
    "\n",
    "stu = Student('王大锤', 20)\n",
    "stu.study('Python程序设计')\n",
    "\n",
    "# print(stu.__name)\n",
    "# AttributeError: 'Student' object has no attribute '__name'\n",
    "\n",
    "print(stu._Student__name)"
   ],
   "id": "e2dc7161d6188215",
   "outputs": [
    {
     "name": "stdout",
     "output_type": "stream",
     "text": [
      "王大锤正在学习Python程序设计.\n",
      "王大锤\n"
     ]
    }
   ],
   "execution_count": 8
  },
  {
   "metadata": {},
   "cell_type": "markdown",
   "source": [
    "#### 动态属性\n",
    "* Python 可以给对象添加属性\n",
    "* 如果不希望使用对象时动态地添加属性，可以使用魔法__slots__"
   ],
   "id": "3f7b066ad5947a6c"
  },
  {
   "metadata": {
    "ExecuteTime": {
     "end_time": "2025-09-13T11:44:35.904417Z",
     "start_time": "2025-09-13T11:44:35.899849Z"
    }
   },
   "cell_type": "code",
   "source": [
    "class Student:\n",
    "\n",
    "    def __init__(self, name, age):\n",
    "        self.name = name\n",
    "        self.age = age\n",
    "\n",
    "\n",
    "stu = Student('王大锤', 20)\n",
    "stu.sex = '男'  # 给学生对象动态添加sex属性"
   ],
   "id": "10a3b60906f2c438",
   "outputs": [],
   "execution_count": 10
  },
  {
   "metadata": {
    "ExecuteTime": {
     "end_time": "2025-09-13T11:44:37.177157Z",
     "start_time": "2025-09-13T11:44:37.171448Z"
    }
   },
   "cell_type": "code",
   "source": [
    "class Student:\n",
    "    __slots__ = ('name', 'age')     # Student类只能有name和age两个属性\n",
    "\n",
    "    def __init__(self, name, age):\n",
    "        self.name = name\n",
    "        self.age = age\n",
    "\n",
    "\n",
    "stu = Student('王大锤', 20)\n",
    "# stu.sex = '男'\n",
    "# AttributeError: 'Student' object has no attribute 'sex'"
   ],
   "id": "e003a40a62e3377d",
   "outputs": [],
   "execution_count": 11
  },
  {
   "metadata": {},
   "cell_type": "markdown",
   "source": [
    "#### 将方法“伪装”成属性\n",
    "* @property 装饰器\n",
    "* 格式：将实例方法命名为属性名\n",
    "* 三大组件：\n",
    "    * @property: 获取器（getter）\n",
    "    * @属性名.setter: 设置器\n",
    "    * @属性名.deleter: 删除器"
   ],
   "id": "82323f899f5613c8"
  },
  {
   "metadata": {
    "ExecuteTime": {
     "end_time": "2025-09-13T12:33:26.278335Z",
     "start_time": "2025-09-13T12:33:26.272469Z"
    }
   },
   "cell_type": "code",
   "source": [
    "# 传统写法\n",
    "class Circle:\n",
    "\n",
    "    def __init__(self, radius):\n",
    "        self.radius = radius\n",
    "\n",
    "    def get_perimeter(self):\n",
    "        return self.radius * 2\n",
    "\n",
    "cir = Circle(5)\n",
    "print(cir.get_perimeter())  # 调用方法"
   ],
   "id": "794016f79b336941",
   "outputs": [
    {
     "name": "stdout",
     "output_type": "stream",
     "text": [
      "10\n"
     ]
    }
   ],
   "execution_count": 36
  },
  {
   "metadata": {
    "ExecuteTime": {
     "end_time": "2025-09-13T12:53:55.391612Z",
     "start_time": "2025-09-13T12:53:55.383563Z"
    }
   },
   "cell_type": "code",
   "source": [
    "# @property写法\n",
    "class Circle:\n",
    "\n",
    "    def __init__(self, radius):\n",
    "        self.radius = radius\n",
    "\n",
    "    @property\n",
    "    def perimeter(self):                 # 方法名：perimeter\n",
    "        return self.radius * 2\n",
    "\n",
    "    @perimeter.setter\n",
    "    def perimeter(self, perimeter):      # 必须同名：perimeter\n",
    "        self.radius = perimeter / 2\n",
    "\n",
    "cir = Circle(5)\n",
    "print(cir.perimeter)  # 访问属性\n",
    "cir.perimeter = 14    # 修改属性\n",
    "print(cir.radius)"
   ],
   "id": "eb845a66517e920e",
   "outputs": [
    {
     "name": "stdout",
     "output_type": "stream",
     "text": [
      "10\n",
      "7.0\n"
     ]
    }
   ],
   "execution_count": 48
  }
 ],
 "metadata": {
  "kernelspec": {
   "display_name": "Python 3",
   "language": "python",
   "name": "python3"
  },
  "language_info": {
   "codemirror_mode": {
    "name": "ipython",
    "version": 2
   },
   "file_extension": ".py",
   "mimetype": "text/x-python",
   "name": "python",
   "nbconvert_exporter": "python",
   "pygments_lexer": "ipython2",
   "version": "2.7.6"
  }
 },
 "nbformat": 4,
 "nbformat_minor": 5
}
