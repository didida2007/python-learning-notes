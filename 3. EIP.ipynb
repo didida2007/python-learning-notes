{
 "cells": [
  {
   "metadata": {},
   "cell_type": "markdown",
   "source": [
    "## 封装\n",
    "* 把属性和函数打包在一起，隐藏内部复杂细节，只暴露必要的操作接口"
   ],
   "id": "f947645cd81c473c"
  },
  {
   "metadata": {},
   "cell_type": "markdown",
   "source": [
    "## 继承\n",
    "* 允许一个子类基于父类来创建，自动获得父类中公共的属性和方法，然后可以添加或修改功能\n",
    "* 优点：每个子类只需要关注其独有的属性和方法，精简代码\n",
    "* 格式：class 子类(父类)"
   ],
   "id": "78af897e4bd5bddb"
  },
  {
   "metadata": {},
   "cell_type": "markdown",
   "source": [
    "#### 单继承\n",
    "* 每个子类只能继承一个父类"
   ],
   "id": "ec25ede305e63bbd"
  },
  {
   "metadata": {
    "ExecuteTime": {
     "end_time": "2025-09-08T17:42:40.711682Z",
     "start_time": "2025-09-08T17:42:40.704134Z"
    }
   },
   "cell_type": "code",
   "source": [
    "class Animal:\n",
    "    def eat(self):\n",
    "        print(\"Eating\")\n",
    "    def drink(self):\n",
    "        print(\"Drinking\")\n",
    "        pass\n",
    "\n",
    "class Dog(Animal):    # Dog子类继承了Animal父类\n",
    "    def woof(self):\n",
    "        print('Woof!')\n",
    "\n",
    "dog1 = Dog()\n",
    "dog1.eat()"
   ],
   "id": "90d6dcb16b937998",
   "outputs": [
    {
     "name": "stdout",
     "output_type": "stream",
     "text": [
      "Eating\n"
     ]
    }
   ],
   "execution_count": 2
  },
  {
   "metadata": {},
   "cell_type": "markdown",
   "source": [
    "#### 多继承\n",
    "* 每个子类可以继承多个父类"
   ],
   "id": "c18e23e493101899"
  },
  {
   "metadata": {
    "ExecuteTime": {
     "end_time": "2025-09-08T17:51:15.044204Z",
     "start_time": "2025-09-08T17:51:15.036653Z"
    }
   },
   "cell_type": "code",
   "source": [
    "class God:\n",
    "    def fly(self):\n",
    "        print('Gods can fly')\n",
    "\n",
    "class Monkey:\n",
    "    def peach(self):\n",
    "        print('Monkeys eat peach')\n",
    "\n",
    "class WuKong(God, Monkey):\n",
    "    pass\n",
    "\n",
    "wukong = WuKong()\n",
    "wukong.fly()\n",
    "wukong.peach()"
   ],
   "id": "fa50ac388c3b2762",
   "outputs": [
    {
     "name": "stdout",
     "output_type": "stream",
     "text": [
      "Gods can fly\n",
      "Monkeys eat peach\n"
     ]
    }
   ],
   "execution_count": 3
  },
  {
   "metadata": {},
   "cell_type": "markdown",
   "source": "多个父类中存在相同方法时调用哪一个？",
   "id": "1d12ff53d9c03566"
  },
  {
   "metadata": {
    "ExecuteTime": {
     "end_time": "2025-09-08T17:56:28.448633Z",
     "start_time": "2025-09-08T17:56:28.443681Z"
    }
   },
   "cell_type": "code",
   "source": [
    "class D:\n",
    "    def eat(self):\n",
    "        print('D eats')\n",
    "class C(D):\n",
    "    def eat(self):\n",
    "        print('C eats')\n",
    "class B(D):\n",
    "    pass\n",
    "class A(B, C):\n",
    "    pass\n",
    "\n",
    "a = A()\n",
    "a.eat()    # Output: C eats\n",
    "# A.eat()? No   ->   A(B, C)   ->   B.eat()? No   ->   C.eat()? Yes\n",
    "# 广度优先"
   ],
   "id": "11306838e165f6e8",
   "outputs": [
    {
     "name": "stdout",
     "output_type": "stream",
     "text": [
      "C eats\n"
     ]
    }
   ],
   "execution_count": 7
  },
  {
   "metadata": {
    "ExecuteTime": {
     "end_time": "2025-09-08T17:59:57.853871Z",
     "start_time": "2025-09-08T17:59:57.846925Z"
    }
   },
   "cell_type": "code",
   "source": [
    "print(A.__mro__)\n",
    "# 继承顺序：A -> B -> C -> D"
   ],
   "id": "977025582724045c",
   "outputs": [
    {
     "name": "stdout",
     "output_type": "stream",
     "text": [
      "(<class '__main__.A'>, <class '__main__.B'>, <class '__main__.C'>, <class '__main__.D'>, <class 'object'>)\n"
     ]
    }
   ],
   "execution_count": 9
  },
  {
   "metadata": {},
   "cell_type": "markdown",
   "source": "#### 继承的传递性",
   "id": "a4e36afc9de1dc65"
  },
  {
   "metadata": {
    "ExecuteTime": {
     "end_time": "2025-09-08T18:05:12.727210Z",
     "start_time": "2025-09-08T18:05:12.717201Z"
    }
   },
   "cell_type": "code",
   "source": [
    "class GrandFather:\n",
    "    def eat(self):\n",
    "        print('Eating')\n",
    "class Father(GrandFather):\n",
    "    pass\n",
    "class Son(Father):\n",
    "    pass\n",
    "\n",
    "son = Son()\n",
    "son.eat()"
   ],
   "id": "a1b25f588b878df6",
   "outputs": [
    {
     "name": "stdout",
     "output_type": "stream",
     "text": [
      "Eating\n"
     ]
    }
   ],
   "execution_count": 10
  },
  {
   "metadata": {},
   "cell_type": "markdown",
   "source": "#### 重写父类方法",
   "id": "bc7907de10e06c67"
  },
  {
   "metadata": {
    "ExecuteTime": {
     "end_time": "2025-09-08T18:08:04.181757Z",
     "start_time": "2025-09-08T18:08:04.175701Z"
    }
   },
   "cell_type": "code",
   "source": [
    "class Father:\n",
    "    def eat(self):\n",
    "        print('Father eats meat')\n",
    "class Son(Father):\n",
    "    def eat(self):\n",
    "        print('Son eats fish')\n",
    "\n",
    "son = Son()\n",
    "son.eat()"
   ],
   "id": "2742fed7c15f7775",
   "outputs": [
    {
     "name": "stdout",
     "output_type": "stream",
     "text": [
      "Son eats fish\n"
     ]
    }
   ],
   "execution_count": 11
  },
  {
   "metadata": {},
   "cell_type": "markdown",
   "source": [
    "#### 类属性与实例属性的继承\n",
    "* super(): 按照MRO顺序找到应该调用的父类方法\n",
    "* super() 函数绑定了当前实例，不需要传递 self"
   ],
   "id": "ee68ecc87ad1eadb"
  },
  {
   "metadata": {
    "ExecuteTime": {
     "end_time": "2025-09-09T14:57:43.836175Z",
     "start_time": "2025-09-09T14:57:43.829301Z"
    }
   },
   "cell_type": "code",
   "source": [
    "class Father:\n",
    "    name = 'Arthur'    # 子类会继承父类的类属性\n",
    "\n",
    "    def __init__(self, job):\n",
    "        self.job = job    # 子类不会继承父类的实例属性\n",
    "\n",
    "    def eat(self):\n",
    "        print('Father eats meat')\n",
    "\n",
    "class Son(Father):\n",
    "    def __init__(self, job, age):\n",
    "        super().__init__(job)\n",
    "        # 调用父类的构造函数将父类的实例属性传递给子类的构造函数\n",
    "        # 等同于\n",
    "        # Father.__init__(self, name)\n",
    "        self.age = age\n",
    "\n",
    "    def eat(self):\n",
    "        super().eat()    # 调用父类的方法\n",
    "        print('Son eats the same')\n",
    "\n",
    "son = Son('Accountant', 37)\n",
    "print(son.name, son.job)\n",
    "son.eat()"
   ],
   "id": "9500ebe244e212c1",
   "outputs": [
    {
     "name": "stdout",
     "output_type": "stream",
     "text": [
      "Arthur Accountant\n",
      "Father eats meat\n",
      "Son eats the same\n"
     ]
    }
   ],
   "execution_count": 6
  },
  {
   "metadata": {},
   "cell_type": "markdown",
   "source": [
    "## 多态\n",
    "* 同一个方法名，不同对象有不同行为"
   ],
   "id": "e8ca8138d1b4c577"
  },
  {
   "metadata": {},
   "cell_type": "markdown",
   "source": "#### 通过继承实现多态（经典）",
   "id": "2b7f6387be08ae3d"
  },
  {
   "metadata": {
    "ExecuteTime": {
     "end_time": "2025-09-09T15:10:23.829307Z",
     "start_time": "2025-09-09T15:10:23.821828Z"
    }
   },
   "cell_type": "code",
   "source": [
    "class Person:\n",
    "    def speak(self):\n",
    "        print('I am a person')\n",
    "class Girl(Person):\n",
    "    def speak(self):\n",
    "        print('I am a girl')\n",
    "class Boy(Person):\n",
    "    def speak(self):\n",
    "        print('I am a boy')\n",
    "\n",
    "alice = Girl()\n",
    "alice.speak()\n",
    "arthur = Boy()\n",
    "arthur.speak()"
   ],
   "id": "741e8460f70c5e4e",
   "outputs": [
    {
     "name": "stdout",
     "output_type": "stream",
     "text": [
      "I am a person\n",
      "I am a girl\n"
     ]
    }
   ],
   "execution_count": 9
  },
  {
   "metadata": {},
   "cell_type": "markdown",
   "source": "#### 通过“鸭子类型”实现多态（python）",
   "id": "d42e81371ad9086e"
  },
  {
   "metadata": {
    "ExecuteTime": {
     "end_time": "2025-09-09T15:23:17.816845Z",
     "start_time": "2025-09-09T15:23:17.810149Z"
    }
   },
   "cell_type": "code",
   "source": [
    "class Girl:\n",
    "    def speak(self):\n",
    "        print('I am a girl')\n",
    "class Boy:\n",
    "    def speak(self):\n",
    "        print('I am a boy')\n",
    "\n",
    "def all_speak(obj):    # 多态函数\n",
    "    obj.speak()    # 只要有speak()方法，都可以被多态函数调用\n",
    "\n",
    "all_speak(Girl())\n",
    "\n",
    "list_obj = [Girl(), Boy()]\n",
    "for obj in list_obj:\n",
    "    all_speak(obj)"
   ],
   "id": "1f440bcfae4435a1",
   "outputs": [
    {
     "name": "stdout",
     "output_type": "stream",
     "text": [
      "I am a girl\n",
      "I am a girl\n",
      "I am a boy\n"
     ]
    }
   ],
   "execution_count": 12
  }
 ],
 "metadata": {
  "kernelspec": {
   "display_name": "Python 3",
   "language": "python",
   "name": "python3"
  },
  "language_info": {
   "codemirror_mode": {
    "name": "ipython",
    "version": 2
   },
   "file_extension": ".py",
   "mimetype": "text/x-python",
   "name": "python",
   "nbconvert_exporter": "python",
   "pygments_lexer": "ipython2",
   "version": "2.7.6"
  }
 },
 "nbformat": 4,
 "nbformat_minor": 5
}
